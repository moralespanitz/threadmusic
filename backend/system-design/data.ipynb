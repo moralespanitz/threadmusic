{
 "cells": [
  {
   "cell_type": "code",
   "execution_count": 1,
   "metadata": {},
   "outputs": [
    {
     "name": "stdout",
     "output_type": "stream",
     "text": [
      "Hello world\n"
     ]
    }
   ],
   "source": [
    "print(\"Hello world\")"
   ]
  },
  {
   "cell_type": "code",
   "execution_count": 1,
   "metadata": {},
   "outputs": [],
   "source": [
    "import numpy as np\n",
    "import pandas as pd\n",
    "from faker import Faker\n",
    "import random\n",
    "from sqlalchemy import create_engine\n",
    "\n",
    "fake = Faker()\n",
    "Faker.seed(0)\n",
    "np.random.seed(0)\n",
    "random.seed(0)"
   ]
  },
  {
   "cell_type": "code",
   "execution_count": 2,
   "metadata": {},
   "outputs": [],
   "source": [
    "# -----------------------\n",
    "# 1. AUTH SERVICE (MySQL)\n",
    "# -----------------------\n",
    "\n",
    "# Crear usuarios\n",
    "num_users = 20000\n",
    "user_ids = np.arange(1, num_users + 1)\n",
    "\n",
    "users_df = pd.DataFrame({\n",
    "    'id': user_ids,\n",
    "    'usuario': [fake.user_name() for _ in range(num_users)],\n",
    "    'correo': [fake.unique.email() for _ in range(num_users)],\n",
    "    'contraseña': [fake.password(length=12) for _ in range(num_users)],\n",
    "})\n",
    "\n",
    "# Dividir en clientes y artistas\n",
    "is_artist = np.random.choice([True, False], size=num_users)\n",
    "\n",
    "clients_df = pd.DataFrame({\n",
    "    'id': user_ids[~is_artist],\n",
    "    'nombre': [fake.first_name() for _ in range(np.sum(~is_artist))],\n",
    "    'apellido': [fake.last_name() for _ in range(np.sum(~is_artist))],\n",
    "})\n",
    "\n",
    "artists_df = pd.DataFrame({\n",
    "    'id': user_ids[is_artist],\n",
    "    'nombre_artistico': [fake.user_name() + \"_art\" for _ in range(np.sum(is_artist))],\n",
    "    'genero_principal': np.random.choice(['Rock', 'Pop', 'Jazz', 'Electronic', 'Hip-Hop'], size=np.sum(is_artist))\n",
    "})\n"
   ]
  },
  {
   "cell_type": "code",
   "execution_count": 3,
   "metadata": {},
   "outputs": [],
   "source": [
    "# 2. BUSINESS LOGIC (PostgreSQL)\n",
    "# -----------------------------\n",
    "\n",
    "# Crear canciones para artistas\n",
    "artist_ids = artists_df['id'].values\n",
    "num_songs = 20000\n",
    "\n",
    "songs_df = pd.DataFrame({\n",
    "    'id': np.arange(1, num_songs + 1),\n",
    "    'titulo': [fake.sentence(nb_words=3).rstrip('.') for _ in range(num_songs)],\n",
    "    'genero': np.random.choice(['Rock', 'Pop', 'Jazz', 'Electronic', 'Hip-Hop'], size=num_songs),\n",
    "    'artista_id': np.random.choice(artist_ids, size=num_songs)\n",
    "})\n",
    "\n",
    "# Crear posts por clientes\n",
    "client_ids = clients_df['id'].values\n",
    "num_posts = 20000\n",
    "\n",
    "posts_df = pd.DataFrame({\n",
    "    'id': np.arange(1, num_posts + 1),\n",
    "    'text': [fake.paragraph(nb_sentences=3) for _ in range(num_posts)],\n",
    "    'cliente_id': np.random.choice(client_ids, size=num_posts),\n",
    "    'likes': np.random.randint(0, 1000, size=num_posts)\n",
    "})"
   ]
  },
  {
   "cell_type": "code",
   "execution_count": 5,
   "metadata": {},
   "outputs": [],
   "source": [
    "# ----------------------------\n",
    "# 3. BUSINESS LOGIC (MongoDB)\n",
    "# ----------------------------\n",
    "\n",
    "# Crear bookmarks\n",
    "num_bookmarks = 20000\n",
    "\n",
    "bookmarks_df = pd.DataFrame({\n",
    "    'id': np.arange(1, num_bookmarks + 1),\n",
    "    'user': np.random.choice(user_ids, size=num_bookmarks),\n",
    "    'post': np.random.choice(posts_df['id'].values, size=num_bookmarks)\n",
    "})\n",
    "\n",
    "# Crear hilos\n",
    "num_hilos = 20000\n",
    "\n",
    "hilos_df = pd.DataFrame({\n",
    "    'id': np.arange(1, num_hilos + 1),\n",
    "    'texto': [fake.sentence(nb_words=10) for _ in range(num_hilos)],\n",
    "    'user': np.random.choice(user_ids, size=num_hilos),\n",
    "    'post': np.random.choice(posts_df['id'].values, size=num_hilos),\n",
    "    'likes': np.random.randint(0, 500, size=num_hilos)\n",
    "})\n"
   ]
  },
  {
   "cell_type": "code",
   "execution_count": 6,
   "metadata": {},
   "outputs": [],
   "source": [
    "# --------------------------\n",
    "# Exportar a archivos locales\n",
    "# --------------------------\n",
    "\n",
    "users_df.to_csv(\"auth_users.csv\", index=False)\n",
    "clients_df.to_csv(\"auth_clients.csv\", index=False)\n",
    "artists_df.to_csv(\"auth_artists.csv\", index=False)\n",
    "\n",
    "songs_df.to_csv(\"logic_songs.csv\", index=False)\n",
    "posts_df.to_csv(\"logic_posts.csv\", index=False)\n",
    "\n",
    "bookmarks_df.to_csv(\"logic_bookmarks.csv\", index=False)\n",
    "hilos_df.to_csv(\"logic_hilos.csv\", index=False)"
   ]
  },
  {
   "cell_type": "code",
   "execution_count": null,
   "metadata": {},
   "outputs": [],
   "source": []
  }
 ],
 "metadata": {
  "kernelspec": {
   "display_name": ".venv",
   "language": "python",
   "name": "python3"
  },
  "language_info": {
   "codemirror_mode": {
    "name": "ipython",
    "version": 3
   },
   "file_extension": ".py",
   "mimetype": "text/x-python",
   "name": "python",
   "nbconvert_exporter": "python",
   "pygments_lexer": "ipython3",
   "version": "3.13.3"
  }
 },
 "nbformat": 4,
 "nbformat_minor": 2
}
